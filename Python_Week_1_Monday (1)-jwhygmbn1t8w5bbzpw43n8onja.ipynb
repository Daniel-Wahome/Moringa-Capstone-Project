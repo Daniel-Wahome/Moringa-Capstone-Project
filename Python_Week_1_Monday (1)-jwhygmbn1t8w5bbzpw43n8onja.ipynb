{
  "nbformat": 4,
  "nbformat_minor": 0,
  "metadata": {
    "colab": {
      "provenance": []
    },
    "kernelspec": {
      "name": "python3",
      "display_name": "Python 3"
    },
    "language_info": {
      "name": "python"
    }
  },
  "cells": [
    {
      "cell_type": "markdown",
      "source": [
        "#Inputs, Datatypes, Definitions"
      ],
      "metadata": {
        "id": "-cG9yH3glZHq"
      }
    },
    {
      "cell_type": "markdown",
      "source": [
        "In order to create your own notebook, Go to File > save a copy in Drive"
      ],
      "metadata": {
        "id": "-NFW5XTty8xh"
      }
    },
    {
      "cell_type": "markdown",
      "source": [],
      "metadata": {
        "id": "vRWNs8WqfuHA"
      }
    },
    {
      "cell_type": "code",
      "source": [
        "x = input('What is your name?')\n",
        "\n",
        "print('My name is '+ x)"
      ],
      "metadata": {
        "id": "AXTCZfyeFgiQ"
      },
      "execution_count": null,
      "outputs": []
    },
    {
      "cell_type": "code",
      "source": [
        "print('Hello, World!')"
      ],
      "metadata": {
        "colab": {
          "base_uri": "https://localhost:8080/"
        },
        "id": "VwJrmFhQpDUa",
        "outputId": "1008a4f8-0894-49ea-eeda-a220ef676323"
      },
      "execution_count": null,
      "outputs": [
        {
          "output_type": "stream",
          "name": "stdout",
          "text": [
            "Hello, Wor\n"
          ]
        }
      ]
    },
    {
      "cell_type": "markdown",
      "source": [
        "A “Hello, world!” program is traditionally used to introduce novice programmers to a programming language.  is also traditionally used in a sanity test to make sure that a computer language is correctly installed, and that the operator understands how to use it.\n",
        "In this notebook, we shall go through datatypes, variables and deifinitions of concepts in Python which will assist in understanding the code and programming language.\n"
      ],
      "metadata": {
        "id": "hrGbvQOul8hy"
      }
    },
    {
      "cell_type": "markdown",
      "source": [
        "# Input and Print"
      ],
      "metadata": {
        "id": "Er4moSD54KaK"
      }
    },
    {
      "cell_type": "markdown",
      "source": [
        "Python **print()** function prints the message to the screen or any other standard output device.\n",
        "\n",
        "Using # to write comments. These comments help programmers explain code and write notes on a cell.\n",
        "\n",
        "A cell is a block of code or text which are sections in a notebook.\n",
        "\n",
        "Variables are containers which store values (numeric, string, list, etc)"
      ],
      "metadata": {
        "id": "TdgaKnLKnv9m"
      }
    },
    {
      "cell_type": "code",
      "execution_count": null,
      "metadata": {
        "colab": {
          "base_uri": "https://localhost:8080/"
        },
        "id": "i3ZOZqNjnsxZ",
        "outputId": "b7348c08-6377-41f1-b054-a801ba6adb3c"
      },
      "outputs": [
        {
          "output_type": "stream",
          "name": "stdout",
          "text": [
            "Hello, World!\n"
          ]
        }
      ],
      "source": [
        "# print() when called, simply throws the cursor to the next line.\n",
        "# It means a blank line will be displayed\n",
        "\n",
        "print()     #hjgjk\n",
        "\n"
      ]
    },
    {
      "cell_type": "code",
      "source": [
        "# String literals in python’s print statement are primarily used to format or design how a specific string appears when printed using the print() function.\n",
        "\n",
        "# \\n : This string literal is used to add a new blank line while printing a statement.\n",
        "# “” : An empty quote (“”) is used to print an empty line.\n",
        "\n",
        "print('\\n')"
      ],
      "metadata": {
        "colab": {
          "base_uri": "https://localhost:8080/"
        },
        "id": "NdFSKd8foAWq",
        "outputId": "c27c8dc4-3538-4498-ce0f-261428468462"
      },
      "execution_count": null,
      "outputs": [
        {
          "output_type": "stream",
          "name": "stdout",
          "text": [
            "\n",
            "\n"
          ]
        }
      ]
    },
    {
      "cell_type": "code",
      "source": [
        "# Printing an empty line\n",
        "print('b')"
      ],
      "metadata": {
        "colab": {
          "base_uri": "https://localhost:8080/"
        },
        "id": "zDQUM_bbooEd",
        "outputId": "bf15e3e7-19c1-4292-f599-f858a6bedbb2"
      },
      "execution_count": null,
      "outputs": [
        {
          "output_type": "stream",
          "name": "stdout",
          "text": [
            "b\n"
          ]
        }
      ]
    },
    {
      "cell_type": "code",
      "source": [
        "67 != 45"
      ],
      "metadata": {
        "colab": {
          "base_uri": "https://localhost:8080/",
          "height": 131
        },
        "id": "bAl8CLrLbzlj",
        "outputId": "687e230a-f5c5-47a4-aba7-5fde1dab86da"
      },
      "execution_count": null,
      "outputs": [
        {
          "output_type": "error",
          "ename": "SyntaxError",
          "evalue": "ignored",
          "traceback": [
            "\u001b[0;36m  File \u001b[0;32m\"<ipython-input-15-f49fc294ddcd>\"\u001b[0;36m, line \u001b[0;32m1\u001b[0m\n\u001b[0;31m    67 = 45\u001b[0m\n\u001b[0m    ^\u001b[0m\n\u001b[0;31mSyntaxError\u001b[0m\u001b[0;31m:\u001b[0m cannot assign to literal\n"
          ]
        }
      ]
    },
    {
      "cell_type": "code",
      "source": [
        "# We shall store values in x\n",
        "\n",
        "\n",
        "\n",
        "x = 6\n",
        "print(x)"
      ],
      "metadata": {
        "colab": {
          "base_uri": "https://localhost:8080/"
        },
        "id": "zN8Ez4H068jV",
        "outputId": "72f8d33d-770e-45d5-c1c4-c5afb44b8196"
      },
      "execution_count": null,
      "outputs": [
        {
          "output_type": "stream",
          "name": "stdout",
          "text": [
            "6\n"
          ]
        }
      ]
    },
    {
      "cell_type": "code",
      "source": [
        "# We can print strings. These can be used to add additional comments and informations\n",
        "print('Python is easy')"
      ],
      "metadata": {
        "colab": {
          "base_uri": "https://localhost:8080/"
        },
        "id": "3vZaT3FAot8y",
        "outputId": "5f958d7b-8235-48f4-ccea-42db23f03f3f"
      },
      "execution_count": null,
      "outputs": [
        {
          "output_type": "stream",
          "name": "stdout",
          "text": [
            "Python is easy\n"
          ]
        }
      ]
    },
    {
      "cell_type": "code",
      "source": [
        "# Lets print 'I am studying python' below\n",
        "\n",
        "print('My name is noah')"
      ],
      "metadata": {
        "id": "saEAg-1i5fe6",
        "colab": {
          "base_uri": "https://localhost:8080/"
        },
        "outputId": "ba40b6a7-80ba-410e-9a8b-12838b91f91f"
      },
      "execution_count": null,
      "outputs": [
        {
          "output_type": "stream",
          "name": "stdout",
          "text": [
            "My name is noah\n"
          ]
        }
      ]
    },
    {
      "cell_type": "code",
      "source": [
        "print(8)"
      ],
      "metadata": {
        "colab": {
          "base_uri": "https://localhost:8080/"
        },
        "id": "vwW4pWRRdzkc",
        "outputId": "eb87aeb9-a131-457d-e5bd-a626a2201e6c"
      },
      "execution_count": null,
      "outputs": [
        {
          "output_type": "stream",
          "name": "stdout",
          "text": [
            "8\n"
          ]
        }
      ]
    },
    {
      "cell_type": "markdown",
      "source": [
        "Input: They allow for user unput  using **input()** function"
      ],
      "metadata": {
        "id": "R1W0yDPG7jk2"
      }
    },
    {
      "cell_type": "code",
      "source": [
        "input()"
      ],
      "metadata": {
        "colab": {
          "base_uri": "https://localhost:8080/",
          "height": 53
        },
        "id": "WfG0kLMReAm9",
        "outputId": "c5006399-da39-4644-cd86-040c10433bda"
      },
      "execution_count": null,
      "outputs": [
        {
          "name": "stdout",
          "output_type": "stream",
          "text": [
            "juju\n"
          ]
        },
        {
          "output_type": "execute_result",
          "data": {
            "text/plain": [
              "'juju'"
            ],
            "application/vnd.google.colaboratory.intrinsic+json": {
              "type": "string"
            }
          },
          "metadata": {},
          "execution_count": 18
        }
      ]
    },
    {
      "cell_type": "code",
      "source": [
        "# Input your age\n",
        "age = input('Enter your age: ')\n",
        "print(age)"
      ],
      "metadata": {
        "id": "iNVG1d7h7jQ3",
        "colab": {
          "base_uri": "https://localhost:8080/"
        },
        "outputId": "a0e19e7d-dd0e-4674-cc10-2e0193be8d94"
      },
      "execution_count": null,
      "outputs": [
        {
          "output_type": "stream",
          "name": "stdout",
          "text": [
            "Enter your age: 30\n",
            "30\n"
          ]
        }
      ]
    },
    {
      "cell_type": "code",
      "source": [
        "# we can input and add data\n",
        "no1 = input('Number 1 = ')\n",
        "no2 = input('Number 2 = ')\n",
        "\n"
      ],
      "metadata": {
        "id": "htE_CEsC8huN",
        "colab": {
          "base_uri": "https://localhost:8080/"
        },
        "outputId": "d9ce9091-df9c-4f08-b67a-a5152ffc6694"
      },
      "execution_count": null,
      "outputs": [
        {
          "name": "stdout",
          "output_type": "stream",
          "text": [
            "Number 1 = 6\n",
            "Number 2 = 55\n"
          ]
        }
      ]
    },
    {
      "cell_type": "code",
      "source": [
        "print(no1)"
      ],
      "metadata": {
        "colab": {
          "base_uri": "https://localhost:8080/"
        },
        "id": "1D_4eLW_fbxI",
        "outputId": "2c5a7c1c-0c92-42a2-d4db-1621495cb8b3"
      },
      "execution_count": null,
      "outputs": [
        {
          "output_type": "stream",
          "name": "stdout",
          "text": [
            "6\n"
          ]
        }
      ]
    },
    {
      "cell_type": "code",
      "source": [
        "input(6)"
      ],
      "metadata": {
        "colab": {
          "base_uri": "https://localhost:8080/",
          "height": 53
        },
        "id": "9Qx7m9H1hW9B",
        "outputId": "78423c42-0e49-44c3-f869-5b6e94876a11"
      },
      "execution_count": null,
      "outputs": [
        {
          "name": "stdout",
          "output_type": "stream",
          "text": [
            "55h\n"
          ]
        },
        {
          "output_type": "execute_result",
          "data": {
            "text/plain": [
              "'h'"
            ],
            "application/vnd.google.colaboratory.intrinsic+json": {
              "type": "string"
            }
          },
          "metadata": {},
          "execution_count": 21
        }
      ]
    },
    {
      "cell_type": "code",
      "source": [
        "# We can combine user input and output\n",
        "print(' v My name is ',input('What is your name? '))\n",
        "\n",
        "print('\\n')\n",
        "\n",
        "# # or alternatively\n",
        "# guvnor = input('Who is Nairobi county governor? ')\n",
        "# print('HE',str(guvnor) +' is the Nairobi governor')"
      ],
      "metadata": {
        "id": "iNfwEH5IpQr1",
        "colab": {
          "base_uri": "https://localhost:8080/"
        },
        "outputId": "092406f8-9c39-441f-d38d-0b9b7db89d91"
      },
      "execution_count": null,
      "outputs": [
        {
          "output_type": "stream",
          "name": "stdout",
          "text": [
            "What is your name? Noah\n",
            " v My name is  Noah\n",
            "\n",
            "\n"
          ]
        }
      ]
    },
    {
      "cell_type": "code",
      "source": [
        "int\n",
        "str\n",
        "float"
      ],
      "metadata": {
        "colab": {
          "base_uri": "https://localhost:8080/"
        },
        "id": "x3kLgoD9HD7v",
        "outputId": "51795774-2d06-4083-9635-b5bfe3e38bab"
      },
      "execution_count": null,
      "outputs": [
        {
          "output_type": "execute_result",
          "data": {
            "text/plain": [
              "int"
            ]
          },
          "metadata": {},
          "execution_count": 24
        }
      ]
    },
    {
      "cell_type": "code",
      "source": [
        "x = int('667')\n",
        "dtype('x)"
      ],
      "metadata": {
        "colab": {
          "base_uri": "https://localhost:8080/",
          "height": 184
        },
        "id": "KbVDLQV_lbHU",
        "outputId": "b097d445-fb19-40f9-93dd-0684a1171eb8"
      },
      "execution_count": null,
      "outputs": [
        {
          "output_type": "error",
          "ename": "NameError",
          "evalue": "ignored",
          "traceback": [
            "\u001b[0;31m---------------------------------------------------------------------------\u001b[0m",
            "\u001b[0;31mNameError\u001b[0m                                 Traceback (most recent call last)",
            "\u001b[0;32m<ipython-input-26-87f2f924d823>\u001b[0m in \u001b[0;36m<module>\u001b[0;34m\u001b[0m\n\u001b[1;32m      1\u001b[0m \u001b[0mx\u001b[0m \u001b[0;34m=\u001b[0m \u001b[0mint\u001b[0m\u001b[0;34m(\u001b[0m\u001b[0;34m'667'\u001b[0m\u001b[0;34m)\u001b[0m\u001b[0;34m\u001b[0m\u001b[0;34m\u001b[0m\u001b[0m\n\u001b[0;32m----> 2\u001b[0;31m \u001b[0mdatatype\u001b[0m\u001b[0;34m(\u001b[0m\u001b[0mx\u001b[0m\u001b[0;34m)\u001b[0m\u001b[0;34m\u001b[0m\u001b[0;34m\u001b[0m\u001b[0m\n\u001b[0m",
            "\u001b[0;31mNameError\u001b[0m: name 'datatype' is not defined"
          ]
        }
      ]
    },
    {
      "cell_type": "code",
      "source": [
        "guvnor = input('Who is Nairobi county governor? ')\n",
        "print('HE',str(guvnor) ,' is the Nairobi governor')"
      ],
      "metadata": {
        "colab": {
          "base_uri": "https://localhost:8080/"
        },
        "id": "nKDV4q9af6qK",
        "outputId": "f703f17e-0337-46fb-d5e5-b10b9afd5acf"
      },
      "execution_count": null,
      "outputs": [
        {
          "output_type": "stream",
          "name": "stdout",
          "text": [
            "Who is Nairobi county governor? sakaja\n",
            "HE sakaja  is the Nairobi governor\n"
          ]
        }
      ]
    },
    {
      "cell_type": "code",
      "source": [
        "print('H.E.'+ guvnor +' is the Nairobi governor')"
      ],
      "metadata": {
        "colab": {
          "base_uri": "https://localhost:8080/"
        },
        "id": "EBile2hKgNPG",
        "outputId": "073ec274-320b-4ca2-bed2-baecd35410ca"
      },
      "execution_count": null,
      "outputs": [
        {
          "output_type": "stream",
          "name": "stdout",
          "text": [
            "H.E.sakaja is the Nairobi governor\n"
          ]
        }
      ]
    },
    {
      "cell_type": "code",
      "source": [
        "6# Lets practise them.\n",
        "r = input('r= ')\n",
        "z = input('z= ')\n",
        "print()\n",
        "print(r<z and z<r)\n",
        "print(r==z or z<r)\n",
        "print(not(r<z))\n"
      ],
      "metadata": {
        "id": "R1IQyzuy0ScR",
        "colab": {
          "base_uri": "https://localhost:8080/"
        },
        "outputId": "e75d5741-b754-4b09-a79e-1c1a0a3bc14e"
      },
      "execution_count": null,
      "outputs": [
        {
          "output_type": "stream",
          "name": "stdout",
          "text": [
            "r= 44\n",
            "z= 77\n",
            "\n",
            "False\n",
            "False\n",
            "False\n"
          ]
        }
      ]
    },
    {
      "cell_type": "markdown",
      "source": [
        "Exercises"
      ],
      "metadata": {
        "id": "6gIHlcQTymEg"
      }
    },
    {
      "cell_type": "code",
      "source": [],
      "metadata": {
        "id": "dpvP6DQOxBr8"
      },
      "execution_count": null,
      "outputs": []
    },
    {
      "cell_type": "code",
      "source": [
        "# Greater or equal to\n",
        "# Is 208 greater or equal to 190?\n",
        "print(208>=190)"
      ],
      "metadata": {
        "id": "B2aBS4PwylxX"
      },
      "execution_count": null,
      "outputs": []
    },
    {
      "cell_type": "markdown",
      "source": [
        "# Data Types"
      ],
      "metadata": {
        "id": "M_rSH5kTnooQ"
      }
    },
    {
      "cell_type": "markdown",
      "source": [
        "In programming, data type is an important concept.\n",
        "\n",
        "Variables can store data of different types, and different types can do different things.\n",
        "Anytime words (text) are written in Python, you're using character strings (strings for short).\n",
        "\n",
        "Examples of data types include:\n",
        "*   Text Type:\tstr\n",
        "*   Numeric Types:\tint, float, complex\n",
        "*   Sequence Types:\tlist, tuple, range\n",
        "*   Mapping Type:\tdict\n",
        "*   Set Types:\tset, frozenset\n",
        "*   Boolean Type:\tbool\n",
        "*   Binary Types:\tbytes, bytearray, memoryview\n",
        "*   None Type:\tNoneType\n",
        "\n",
        "\n",
        "\n",
        "\n",
        "\n",
        "\n",
        "\n"
      ],
      "metadata": {
        "id": "E__Ttfwznq_M"
      }
    },
    {
      "cell_type": "markdown",
      "source": [
        "## Getting data type\n",
        "You can get the data type of any object by using the **type()** function"
      ],
      "metadata": {
        "id": "SDdcF7xFn3Va"
      }
    },
    {
      "cell_type": "code",
      "source": [
        "# Print the data type of the variable x\n",
        "# Integer type\n",
        "x = 5\n",
        "\n",
        "\n",
        "type(x)"
      ],
      "metadata": {
        "id": "yuPiO1Snn_W6",
        "colab": {
          "base_uri": "https://localhost:8080/"
        },
        "outputId": "5d3962e6-5170-4f38-9c86-669de08a7d9a"
      },
      "execution_count": null,
      "outputs": [
        {
          "output_type": "execute_result",
          "data": {
            "text/plain": [
              "int"
            ]
          },
          "metadata": {},
          "execution_count": 15
        }
      ]
    },
    {
      "cell_type": "code",
      "source": [
        "\n",
        "type()"
      ],
      "metadata": {
        "id": "2up7t3ELibb3"
      },
      "execution_count": null,
      "outputs": []
    },
    {
      "cell_type": "code",
      "source": [
        "# Float type\n",
        "type(6/3)"
      ],
      "metadata": {
        "id": "v_zmfswmoIGE",
        "colab": {
          "base_uri": "https://localhost:8080/"
        },
        "outputId": "c00856e1-c5a8-4ad5-bd51-35c7b8cfb38b"
      },
      "execution_count": null,
      "outputs": [
        {
          "output_type": "execute_result",
          "data": {
            "text/plain": [
              "float"
            ]
          },
          "metadata": {},
          "execution_count": 16
        }
      ]
    },
    {
      "cell_type": "code",
      "source": [
        "# String type\n",
        "type('This is marys book')"
      ],
      "metadata": {
        "id": "q2tyvtMlp_p_",
        "colab": {
          "base_uri": "https://localhost:8080/"
        },
        "outputId": "2383cb90-82c9-40bc-b0c4-9234df31c48e"
      },
      "execution_count": null,
      "outputs": [
        {
          "output_type": "execute_result",
          "data": {
            "text/plain": [
              "str"
            ]
          },
          "metadata": {},
          "execution_count": 50
        }
      ]
    },
    {
      "cell_type": "code",
      "source": [
        "# Run this cell and check its output\n",
        "#\n",
        "# a = \"Learning Data Science is Easy\"\n",
        "a = 3\n",
        "type(a)"
      ],
      "metadata": {
        "id": "GPkYbqp5qN9n",
        "colab": {
          "base_uri": "https://localhost:8080/"
        },
        "outputId": "1da88a44-21f3-4a23-fc8f-78117afe7d48"
      },
      "execution_count": null,
      "outputs": [
        {
          "output_type": "execute_result",
          "data": {
            "text/plain": [
              "int"
            ]
          },
          "metadata": {},
          "execution_count": 51
        }
      ]
    },
    {
      "cell_type": "code",
      "source": [
        "type(4)"
      ],
      "metadata": {
        "colab": {
          "base_uri": "https://localhost:8080/"
        },
        "id": "UdzcH04mkTs2",
        "outputId": "6505f163-cbaf-49c8-e6d6-48be1b5235a5"
      },
      "execution_count": null,
      "outputs": [
        {
          "output_type": "execute_result",
          "data": {
            "text/plain": [
              "int"
            ]
          },
          "metadata": {},
          "execution_count": 54
        }
      ]
    },
    {
      "cell_type": "code",
      "source": [
        "y = int('4')\n",
        "type(y)"
      ],
      "metadata": {
        "id": "RlbQyFp_sAdz",
        "colab": {
          "base_uri": "https://localhost:8080/"
        },
        "outputId": "54fa88e8-fd1d-4bce-ff37-6465f83b47aa"
      },
      "execution_count": null,
      "outputs": [
        {
          "output_type": "execute_result",
          "data": {
            "text/plain": [
              "int"
            ]
          },
          "metadata": {},
          "execution_count": 58
        }
      ]
    },
    {
      "cell_type": "code",
      "source": [
        "list1 = {\"a\",\"b\",5}\n",
        "\n",
        "type(list1)"
      ],
      "metadata": {
        "colab": {
          "base_uri": "https://localhost:8080/"
        },
        "id": "qijDV0Dxip8x",
        "outputId": "20b0a137-102c-4918-cde7-74f7b0c62e01"
      },
      "execution_count": null,
      "outputs": [
        {
          "output_type": "execute_result",
          "data": {
            "text/plain": [
              "set"
            ]
          },
          "metadata": {},
          "execution_count": 19
        }
      ]
    },
    {
      "cell_type": "markdown",
      "source": [
        "## Data type conversion\n",
        "If you want to specify the data type, we can use the following constructor functions;\n",
        "\n",
        "**str(), int(), float(), list(), complex(), dict(), set(), bool(), range(), tuple()** among others\n",
        "\n",
        "However, we can lose information or introduce errors to code. Converting float to integer will lose its decimal value, while converting a string to integer will not be valid. (i.e. float 23.1762 will be 23)"
      ],
      "metadata": {
        "id": "z4NHmmhZqYXg"
      }
    },
    {
      "cell_type": "markdown",
      "source": [
        "### To integer"
      ],
      "metadata": {
        "id": "88ArlFhTuTHy"
      }
    },
    {
      "cell_type": "code",
      "source": [
        "xy = '6718919'\n",
        "\n",
        "type(xy)"
      ],
      "metadata": {
        "colab": {
          "base_uri": "https://localhost:8080/"
        },
        "id": "xKiMW23_jjjQ",
        "outputId": "131599c5-0844-46aa-c5c9-548dcd81e855"
      },
      "execution_count": null,
      "outputs": [
        {
          "output_type": "execute_result",
          "data": {
            "text/plain": [
              "str"
            ]
          },
          "metadata": {},
          "execution_count": 27
        }
      ]
    },
    {
      "cell_type": "code",
      "source": [
        "zz = int(xy)\n",
        "\n",
        "type(zz)"
      ],
      "metadata": {
        "colab": {
          "base_uri": "https://localhost:8080/"
        },
        "id": "cWk_d4imjjgp",
        "outputId": "7a20f325-f161-4414-f245-80ae9f01a5c4"
      },
      "execution_count": null,
      "outputs": [
        {
          "output_type": "execute_result",
          "data": {
            "text/plain": [
              "int"
            ]
          },
          "metadata": {},
          "execution_count": 29
        }
      ]
    },
    {
      "cell_type": "code",
      "source": [],
      "metadata": {
        "id": "8hCO3Qisjjef"
      },
      "execution_count": null,
      "outputs": []
    },
    {
      "cell_type": "code",
      "source": [],
      "metadata": {
        "id": "NPDKcr4fjjcq"
      },
      "execution_count": null,
      "outputs": []
    },
    {
      "cell_type": "code",
      "source": [],
      "metadata": {
        "id": "hbbJkNRKjjaq"
      },
      "execution_count": null,
      "outputs": []
    },
    {
      "cell_type": "code",
      "source": [],
      "metadata": {
        "id": "cmvrwgR4jjX7"
      },
      "execution_count": null,
      "outputs": []
    },
    {
      "cell_type": "code",
      "source": [],
      "metadata": {
        "id": "dw_xo62njjWD"
      },
      "execution_count": null,
      "outputs": []
    },
    {
      "cell_type": "code",
      "source": [],
      "metadata": {
        "id": "g2dcSLG3jjTq"
      },
      "execution_count": null,
      "outputs": []
    },
    {
      "cell_type": "code",
      "source": [],
      "metadata": {
        "id": "pbYqQrmBjjLh"
      },
      "execution_count": null,
      "outputs": []
    },
    {
      "cell_type": "code",
      "source": [
        "# Change float to integer\n",
        "x = 9.976\n",
        "print(type(x))\n",
        "\n",
        "# # Uncomment the code below\n",
        "two_x = int(x)\n",
        "print(two_x)\n",
        "print(type(two_x))"
      ],
      "metadata": {
        "id": "nP9GErhSs90B",
        "colab": {
          "base_uri": "https://localhost:8080/"
        },
        "outputId": "fcbca6ba-c28b-471e-b65a-9f08f4ff93a0"
      },
      "execution_count": null,
      "outputs": [
        {
          "output_type": "stream",
          "name": "stdout",
          "text": [
            "<class 'float'>\n",
            "9\n",
            "<class 'int'>\n"
          ]
        }
      ]
    },
    {
      "cell_type": "code",
      "source": [
        "int(82)"
      ],
      "metadata": {
        "id": "SyCuPu0LugQ5",
        "colab": {
          "base_uri": "https://localhost:8080/"
        },
        "outputId": "7376121f-d3a4-4eed-f1fb-e61515a0df97"
      },
      "execution_count": null,
      "outputs": [
        {
          "output_type": "execute_result",
          "data": {
            "text/plain": [
              "82"
            ]
          },
          "metadata": {},
          "execution_count": 61
        }
      ]
    },
    {
      "cell_type": "code",
      "source": [
        "int('12872')"
      ],
      "metadata": {
        "id": "sqIrpYsavIwV",
        "colab": {
          "base_uri": "https://localhost:8080/"
        },
        "outputId": "7ec861ef-0291-4c47-a1c5-da51b777d53d"
      },
      "execution_count": null,
      "outputs": [
        {
          "output_type": "execute_result",
          "data": {
            "text/plain": [
              "12872"
            ]
          },
          "metadata": {},
          "execution_count": 62
        }
      ]
    },
    {
      "cell_type": "code",
      "source": [
        "int('sdhg')"
      ],
      "metadata": {
        "id": "JlY5a3GWvLmq",
        "colab": {
          "base_uri": "https://localhost:8080/",
          "height": 166
        },
        "outputId": "50b68709-8e62-477e-8315-64de17759636"
      },
      "execution_count": null,
      "outputs": [
        {
          "output_type": "error",
          "ename": "ValueError",
          "evalue": "ignored",
          "traceback": [
            "\u001b[0;31m---------------------------------------------------------------------------\u001b[0m",
            "\u001b[0;31mValueError\u001b[0m                                Traceback (most recent call last)",
            "\u001b[0;32m<ipython-input-63-a0fda3fd67b9>\u001b[0m in \u001b[0;36m<module>\u001b[0;34m\u001b[0m\n\u001b[0;32m----> 1\u001b[0;31m \u001b[0mint\u001b[0m\u001b[0;34m(\u001b[0m\u001b[0;34m'sdhg'\u001b[0m\u001b[0;34m)\u001b[0m\u001b[0;34m\u001b[0m\u001b[0;34m\u001b[0m\u001b[0m\n\u001b[0m",
            "\u001b[0;31mValueError\u001b[0m: invalid literal for int() with base 10: 'sdhg'"
          ]
        }
      ]
    },
    {
      "cell_type": "markdown",
      "source": [
        "### To float"
      ],
      "metadata": {
        "id": "PPzcVQFOuXST"
      }
    },
    {
      "cell_type": "markdown",
      "source": [
        "float()"
      ],
      "metadata": {
        "id": "PR-N3ndWmNVM"
      }
    },
    {
      "cell_type": "code",
      "source": [
        "type(7)"
      ],
      "metadata": {
        "colab": {
          "base_uri": "https://localhost:8080/"
        },
        "id": "X5fzV1eLkmUy",
        "outputId": "7418ab1b-bd9b-4708-84c7-f1ace64d8591"
      },
      "execution_count": null,
      "outputs": [
        {
          "output_type": "execute_result",
          "data": {
            "text/plain": [
              "int"
            ]
          },
          "metadata": {},
          "execution_count": 30
        }
      ]
    },
    {
      "cell_type": "code",
      "source": [
        "float(7)"
      ],
      "metadata": {
        "colab": {
          "base_uri": "https://localhost:8080/"
        },
        "id": "vMBBlnPYkwgM",
        "outputId": "6fe453a9-b139-450d-9f16-ab9c8cf75922"
      },
      "execution_count": null,
      "outputs": [
        {
          "output_type": "execute_result",
          "data": {
            "text/plain": [
              "7.0"
            ]
          },
          "metadata": {},
          "execution_count": 31
        }
      ]
    },
    {
      "cell_type": "code",
      "source": [
        "# Change integer to float\n",
        "x = 9\n",
        "print(type(x))\n",
        "\n",
        "# Uncomment the code below\n",
        "xx = float(x)\n",
        "print(type(xx))"
      ],
      "metadata": {
        "id": "LA8_vVAfqW_9",
        "colab": {
          "base_uri": "https://localhost:8080/"
        },
        "outputId": "898cc362-13dd-4032-a519-26b8666e3c2c"
      },
      "execution_count": null,
      "outputs": [
        {
          "output_type": "stream",
          "name": "stdout",
          "text": [
            "<class 'int'>\n",
            "<class 'float'>\n"
          ]
        }
      ]
    },
    {
      "cell_type": "code",
      "source": [
        "# average_number = 45.2 people\n",
        "int(45.2)"
      ],
      "metadata": {
        "id": "tDt4gm1DvRpA",
        "colab": {
          "base_uri": "https://localhost:8080/"
        },
        "outputId": "c19d2955-bdcf-467c-c7cc-470b5efb8575"
      },
      "execution_count": null,
      "outputs": [
        {
          "output_type": "execute_result",
          "data": {
            "text/plain": [
              "45"
            ]
          },
          "metadata": {},
          "execution_count": 66
        }
      ]
    },
    {
      "cell_type": "markdown",
      "source": [
        "### To string"
      ],
      "metadata": {
        "id": "_HJfg6ZJuZN2"
      }
    },
    {
      "cell_type": "code",
      "source": [
        "# Convert integer to string\n",
        "str(9272)"
      ],
      "metadata": {
        "id": "rcFzZyKMtP8d",
        "colab": {
          "base_uri": "https://localhost:8080/",
          "height": 35
        },
        "outputId": "3f96bedc-ee88-4806-ee55-8ecd326abcce"
      },
      "execution_count": null,
      "outputs": [
        {
          "output_type": "execute_result",
          "data": {
            "text/plain": [
              "'9272'"
            ],
            "application/vnd.google.colaboratory.intrinsic+json": {
              "type": "string"
            }
          },
          "metadata": {},
          "execution_count": 67
        }
      ]
    },
    {
      "cell_type": "code",
      "source": [
        "str(87/12)"
      ],
      "metadata": {
        "id": "TcHF-sGitZSI",
        "colab": {
          "base_uri": "https://localhost:8080/",
          "height": 35
        },
        "outputId": "13238cf3-d1b9-445c-f9bd-ea71ea089fab"
      },
      "execution_count": null,
      "outputs": [
        {
          "output_type": "execute_result",
          "data": {
            "text/plain": [
              "'7.25'"
            ],
            "application/vnd.google.colaboratory.intrinsic+json": {
              "type": "string"
            }
          },
          "metadata": {},
          "execution_count": 68
        }
      ]
    },
    {
      "cell_type": "code",
      "source": [
        "type(True)"
      ],
      "metadata": {
        "id": "TNKjaX_8vUZe",
        "colab": {
          "base_uri": "https://localhost:8080/"
        },
        "outputId": "2de1f33c-1799-4e65-d96d-383caf8a4826"
      },
      "execution_count": null,
      "outputs": [
        {
          "output_type": "execute_result",
          "data": {
            "text/plain": [
              "bool"
            ]
          },
          "metadata": {},
          "execution_count": 69
        }
      ]
    },
    {
      "cell_type": "code",
      "source": [
        "# We can convert Boolean to string\n",
        "type(str(True))\n",
        "\n",
        "str()"
      ],
      "metadata": {
        "id": "2Y3_aq21vXWv",
        "colab": {
          "base_uri": "https://localhost:8080/"
        },
        "outputId": "07c297a3-0c82-4631-fd56-88af961ebbcb"
      },
      "execution_count": null,
      "outputs": [
        {
          "output_type": "execute_result",
          "data": {
            "text/plain": [
              "str"
            ]
          },
          "metadata": {},
          "execution_count": 70
        }
      ]
    },
    {
      "cell_type": "markdown",
      "source": [
        "### Boolean"
      ],
      "metadata": {
        "id": "R0zrtUoDub-K"
      }
    },
    {
      "cell_type": "markdown",
      "source": [
        "We can cast boolean to datatypes. If the value is True, we will get 1, while False = 0"
      ],
      "metadata": {
        "id": "ej9fo_KUuDzN"
      }
    },
    {
      "cell_type": "code",
      "source": [
        "int(True),int(False)\n"
      ],
      "metadata": {
        "id": "ZWIo7CwFt8Gw"
      },
      "execution_count": null,
      "outputs": []
    },
    {
      "cell_type": "code",
      "source": [
        "bool(0)"
      ],
      "metadata": {
        "id": "LJDAKl1Nt3bD"
      },
      "execution_count": null,
      "outputs": []
    },
    {
      "cell_type": "code",
      "source": [
        "bool('jaha')"
      ],
      "metadata": {
        "id": "CC5VeZ_GtjAC"
      },
      "execution_count": null,
      "outputs": []
    },
    {
      "cell_type": "code",
      "source": [
        "bool('')"
      ],
      "metadata": {
        "id": "cjBkBUNHuMvg"
      },
      "execution_count": null,
      "outputs": []
    },
    {
      "cell_type": "markdown",
      "source": [
        "#Definitions\n"
      ],
      "metadata": {
        "id": "aEgdCIvY62gO"
      }
    },
    {
      "cell_type": "code",
      "source": [
        "1+1"
      ],
      "metadata": {
        "colab": {
          "base_uri": "https://localhost:8080/"
        },
        "id": "w2_MXjKienK6",
        "outputId": "08ce168f-878a-4667-b661-79700366fe4e"
      },
      "execution_count": null,
      "outputs": [
        {
          "output_type": "execute_result",
          "data": {
            "text/plain": [
              "2"
            ]
          },
          "metadata": {},
          "execution_count": 1
        }
      ]
    },
    {
      "cell_type": "markdown",
      "source": [
        "####List\n",
        "A list is a collection which is ordered and changeable. They are written with [  ].\n",
        "\n",
        "They can contain different datatypes like integers, strings, objects. They are mutable and do not need to be homogeneous and can contain duplicates."
      ],
      "metadata": {
        "id": "A_d-Ia6l6_Zg"
      }
    },
    {
      "cell_type": "code",
      "source": [
        "# Create a list\n",
        "fruits = ['apple',\"pear\",'pineapple',\"banana\",'mango']\n",
        "print('list =', fruits)\n",
        "\n"
      ],
      "metadata": {
        "id": "FmQQsYyS7N2v",
        "colab": {
          "base_uri": "https://localhost:8080/"
        },
        "outputId": "436f13f9-937b-4a76-f36a-909e1a29723c"
      },
      "execution_count": null,
      "outputs": [
        {
          "output_type": "stream",
          "name": "stdout",
          "text": [
            "list = ['apple', 'pear', 'pineapple', 'banana', 'mango']\n"
          ]
        }
      ]
    },
    {
      "cell_type": "code",
      "source": [
        "sports = ['football','rugby','tennis','squash',98]\n",
        "print('list 2 = ',sports)\n"
      ],
      "metadata": {
        "id": "jc6aJQgqxTgW",
        "colab": {
          "base_uri": "https://localhost:8080/"
        },
        "outputId": "6be6b767-5c1f-45ec-ad82-4204c499f7d2"
      },
      "execution_count": null,
      "outputs": [
        {
          "output_type": "stream",
          "name": "stdout",
          "text": [
            "list 2 =  ['football', 'rugby', 'tennis', 'squash', 98]\n"
          ]
        }
      ]
    },
    {
      "cell_type": "code",
      "source": [
        "clubs = ['Arsenal','Chelsea','Man Utd', 'Liverpool','Man City']\n",
        "clubs"
      ],
      "metadata": {
        "id": "S0vtkMR7zb--",
        "colab": {
          "base_uri": "https://localhost:8080/"
        },
        "outputId": "9d497cbf-49f9-4cf1-dafd-dc184abd7049"
      },
      "execution_count": null,
      "outputs": [
        {
          "output_type": "execute_result",
          "data": {
            "text/plain": [
              "['Arsenal', 'Chelsea', 'Man Utd', 'Liverpool', 'Man City']"
            ]
          },
          "metadata": {},
          "execution_count": 75
        }
      ]
    },
    {
      "cell_type": "code",
      "source": [
        "# Add variables to create your custom list\n",
        "my_list = ['add your variables']\n",
        "print(my_list)"
      ],
      "metadata": {
        "id": "x4g0rRGixVSb"
      },
      "execution_count": null,
      "outputs": []
    },
    {
      "cell_type": "code",
      "source": [
        "#  An empty list contains no variables\n",
        "print([])"
      ],
      "metadata": {
        "id": "sPrUqYaI-Lrl"
      },
      "execution_count": null,
      "outputs": []
    },
    {
      "cell_type": "code",
      "source": [
        "#  We can add items by using append() and extend()\n",
        "fruits.append('orange')\n",
        "print(fruits)\n"
      ],
      "metadata": {
        "id": "Uu7DUZ3S8x90",
        "colab": {
          "base_uri": "https://localhost:8080/"
        },
        "outputId": "47fcfd70-faf2-41fa-bcf2-640e1c8be295"
      },
      "execution_count": null,
      "outputs": [
        {
          "output_type": "stream",
          "name": "stdout",
          "text": [
            "['apple', 'pear', 'pineapple', 'banana', 'mango', 'orange', 'orange']\n"
          ]
        }
      ]
    },
    {
      "cell_type": "code",
      "source": [
        "sports.extend(['100 m','Formula 1'])\n",
        "print(sports)"
      ],
      "metadata": {
        "id": "gaF8BuLWyMQN",
        "colab": {
          "base_uri": "https://localhost:8080/"
        },
        "outputId": "39fa916d-0206-4caa-d453-8d638554f6e4"
      },
      "execution_count": null,
      "outputs": [
        {
          "output_type": "stream",
          "name": "stdout",
          "text": [
            "['football', 'rugby', 'tennis', 'squash', 98, '100 m', 'Formula 1']\n"
          ]
        }
      ]
    },
    {
      "cell_type": "markdown",
      "source": [
        "We can add and update elements in a list by its index, remember Python indexes start with 0.\n",
        "\n"
      ],
      "metadata": {
        "id": "kmzR-l0wy_0H"
      }
    },
    {
      "cell_type": "code",
      "source": [
        "sports"
      ],
      "metadata": {
        "colab": {
          "base_uri": "https://localhost:8080/"
        },
        "id": "kvcsPOJvn7KP",
        "outputId": "1414c4d4-e465-4bc6-8c87-9631faf19145"
      },
      "execution_count": null,
      "outputs": [
        {
          "output_type": "execute_result",
          "data": {
            "text/plain": [
              "['football', 'rugby', 'tennis', 'squash', 98]"
            ]
          },
          "metadata": {},
          "execution_count": 76
        }
      ]
    },
    {
      "cell_type": "markdown",
      "source": [],
      "metadata": {
        "id": "L2mJiTMHoxxO"
      }
    },
    {
      "cell_type": "code",
      "source": [
        "# Add a sport in the sports list, first item\n",
        "sports[-1] = 'softball'\n",
        "sports"
      ],
      "metadata": {
        "id": "C4s3otTKy6hK",
        "colab": {
          "base_uri": "https://localhost:8080/"
        },
        "outputId": "56a6d458-8a20-4670-932d-fbd6ceb7b029"
      },
      "execution_count": null,
      "outputs": [
        {
          "output_type": "execute_result",
          "data": {
            "text/plain": [
              "['basketball', 'baseball', 'tennis', 'squash', 98, '100 m', 'softball']"
            ]
          },
          "metadata": {},
          "execution_count": 82
        }
      ]
    },
    {
      "cell_type": "code",
      "source": [
        "# Add a sport in the fruits list, third item\n",
        "fruits[2] = 'quava'\n",
        "fruits"
      ],
      "metadata": {
        "id": "QEDiT9r9zlty"
      },
      "execution_count": null,
      "outputs": []
    },
    {
      "cell_type": "code",
      "source": [
        "# Add your favourite football club, second item\n",
        "sports[1] = 'my team'\n",
        "sports"
      ],
      "metadata": {
        "id": "kI4vm1Mrz3Rq"
      },
      "execution_count": null,
      "outputs": []
    },
    {
      "cell_type": "markdown",
      "source": [
        "We can access elements using an integer index"
      ],
      "metadata": {
        "id": "pD9-QzBt8A-p"
      }
    },
    {
      "cell_type": "code",
      "source": [
        "sports[3]"
      ],
      "metadata": {
        "id": "YqYpMJl88hN_"
      },
      "execution_count": null,
      "outputs": []
    },
    {
      "cell_type": "code",
      "source": [
        "clubs"
      ],
      "metadata": {
        "colab": {
          "base_uri": "https://localhost:8080/"
        },
        "id": "pd7mZGMTo86f",
        "outputId": "82456de8-8e39-4de5-cf6b-2e70bcbf4ff4"
      },
      "execution_count": null,
      "outputs": [
        {
          "output_type": "execute_result",
          "data": {
            "text/plain": [
              "['Arsenal', 'Chelsea', 'Man Utd', 'Liverpool', 'Man City']"
            ]
          },
          "metadata": {},
          "execution_count": 84
        }
      ]
    },
    {
      "cell_type": "code",
      "source": [
        "#  we can access the list and add an output string to make sense of a list\n",
        "print(clubs[-1],'is big')"
      ],
      "metadata": {
        "id": "v0tzimSnYCuL",
        "colab": {
          "base_uri": "https://localhost:8080/"
        },
        "outputId": "e85fc646-d217-4e3e-a1a2-dccf5a42bfca"
      },
      "execution_count": null,
      "outputs": [
        {
          "output_type": "stream",
          "name": "stdout",
          "text": [
            "Man City is big\n"
          ]
        }
      ]
    },
    {
      "cell_type": "code",
      "source": [
        "# To get a range of elements we use\n",
        "# Get first two elements in the list\n",
        "\n",
        "clubs[0:3]"
      ],
      "metadata": {
        "id": "FqoT1BzNYrPs",
        "colab": {
          "base_uri": "https://localhost:8080/"
        },
        "outputId": "f5c409b1-f7c2-4d00-9896-1d25e9e1724b"
      },
      "execution_count": null,
      "outputs": [
        {
          "output_type": "execute_result",
          "data": {
            "text/plain": [
              "['Arsenal', 'Chelsea', 'Man Utd']"
            ]
          },
          "metadata": {},
          "execution_count": 88
        }
      ]
    },
    {
      "cell_type": "code",
      "source": [
        "# Len returns the number of elements\n",
        "\n",
        "len(clubs)"
      ],
      "metadata": {
        "id": "hrSuoSFQY82V",
        "colab": {
          "base_uri": "https://localhost:8080/"
        },
        "outputId": "3f1abbbd-f95a-41b5-83d8-311a98f31dd6"
      },
      "execution_count": null,
      "outputs": [
        {
          "output_type": "execute_result",
          "data": {
            "text/plain": [
              "5"
            ]
          },
          "metadata": {},
          "execution_count": 90
        }
      ]
    },
    {
      "cell_type": "code",
      "source": [
        "# Get the last item in list\n",
        "clubs[-1]"
      ],
      "metadata": {
        "id": "cjAq1oeHZIrL",
        "colab": {
          "base_uri": "https://localhost:8080/",
          "height": 35
        },
        "outputId": "601932b7-b459-4f64-c4e6-8e2cc7aa8fa2"
      },
      "execution_count": null,
      "outputs": [
        {
          "output_type": "execute_result",
          "data": {
            "text/plain": [
              "'Man City'"
            ],
            "application/vnd.google.colaboratory.intrinsic+json": {
              "type": "string"
            }
          },
          "metadata": {},
          "execution_count": 91
        }
      ]
    },
    {
      "cell_type": "markdown",
      "source": [
        "We can remove items from a list as shown below"
      ],
      "metadata": {
        "id": "TEjDTz_10iS-"
      }
    },
    {
      "cell_type": "code",
      "source": [
        "# Let us remove rugby from the sports list\n",
        "sports.remove('softball')\n",
        "sports"
      ],
      "metadata": {
        "id": "1ejhD4lf0mFl",
        "colab": {
          "base_uri": "https://localhost:8080/"
        },
        "outputId": "c280e47a-77c3-4ca9-8343-7826a53f44f6"
      },
      "execution_count": null,
      "outputs": [
        {
          "output_type": "execute_result",
          "data": {
            "text/plain": [
              "['basketball', 'baseball', 'tennis', 'squash', 98, '100 m']"
            ]
          },
          "metadata": {},
          "execution_count": 93
        }
      ]
    },
    {
      "cell_type": "code",
      "source": [
        "#  Let us delete fourth item from clubs list\n",
        "del sports[3]\n",
        "sports"
      ],
      "metadata": {
        "id": "PhQOF7b11MHr",
        "colab": {
          "base_uri": "https://localhost:8080/"
        },
        "outputId": "191d6f70-2f8f-4c49-98c8-4acfcfe81104"
      },
      "execution_count": null,
      "outputs": [
        {
          "output_type": "execute_result",
          "data": {
            "text/plain": [
              "['basketball', 'baseball', 'tennis', 98, '100 m']"
            ]
          },
          "metadata": {},
          "execution_count": 94
        }
      ]
    },
    {
      "cell_type": "code",
      "source": [
        "#  Let us delete nth item from your custom list\n",
        "del my_list[0] # replace 0 with n\n",
        "my_list"
      ],
      "metadata": {
        "id": "cZ7y9AoQ1hxS"
      },
      "execution_count": null,
      "outputs": []
    },
    {
      "cell_type": "markdown",
      "source": [
        "Let us print items in a list based on their indexes. This can subset a list by slicing the list"
      ],
      "metadata": {
        "id": "HVmBEvgw10h2"
      }
    },
    {
      "cell_type": "code",
      "source": [
        "# We can print the items from the 3rd item till the end by slicing and printing them as shown;\n",
        "\n",
        "fruits_2 = fruits[2:]\n",
        "print(fruits_2)"
      ],
      "metadata": {
        "id": "uwFZqjnD2B3i"
      },
      "execution_count": null,
      "outputs": []
    },
    {
      "cell_type": "code",
      "source": [
        "# We can print items from beginning of the list to the third element in the\n",
        "# football club list as shown;\n",
        "#\n",
        "klab = clubs[:-2]\n",
        "print(klab)"
      ],
      "metadata": {
        "id": "1WqJbYDv2XlO"
      },
      "execution_count": null,
      "outputs": []
    },
    {
      "cell_type": "markdown",
      "source": [
        "####Tuple\n",
        "A tuple is similar to list except that objects in a tuple are immutable and cannot be changed once assigned.\n",
        "Iteratively, it is computationaly cheap as compared to a list. Since tuples are indexed, they can have items with the same value"
      ],
      "metadata": {
        "id": "NoOTBRJd7LIv"
      }
    },
    {
      "cell_type": "code",
      "source": [
        "# A tuple can be empty\n",
        "tuple1 = ()\n",
        "print(tuple1)\n"
      ],
      "metadata": {
        "id": "jfN49tiE2qf_",
        "colab": {
          "base_uri": "https://localhost:8080/"
        },
        "outputId": "ea1e3a30-404e-48c7-c1eb-5786263417d3"
      },
      "execution_count": null,
      "outputs": [
        {
          "output_type": "stream",
          "name": "stdout",
          "text": [
            "()\n"
          ]
        }
      ]
    },
    {
      "cell_type": "code",
      "source": [
        "# Creating a tuple with variables\n",
        "tuple_2 = ('rat','mouse','rabbit')\n",
        "print(tuple_2)\n",
        "\n"
      ],
      "metadata": {
        "id": "kRcoivmr-XKJ",
        "colab": {
          "base_uri": "https://localhost:8080/"
        },
        "outputId": "6b9937ba-ebc2-4862-c2f6-5f3adc9512ed"
      },
      "execution_count": null,
      "outputs": [
        {
          "output_type": "stream",
          "name": "stdout",
          "text": [
            "('rat', 'mouse', 'rabbit')\n"
          ]
        }
      ]
    },
    {
      "cell_type": "code",
      "source": [
        "# Create a tuple of foodstuff\n",
        "food = ('ugali','rice','potato','sukuma')\n",
        "\n",
        "food"
      ],
      "metadata": {
        "id": "EPbR1yJZ3Ku_",
        "colab": {
          "base_uri": "https://localhost:8080/"
        },
        "outputId": "c23a9b36-8d67-485e-85a3-c0b277324a64"
      },
      "execution_count": null,
      "outputs": [
        {
          "output_type": "execute_result",
          "data": {
            "text/plain": [
              "('ugali', 'rice', 'potato', 'sukuma')"
            ]
          },
          "metadata": {},
          "execution_count": 97
        }
      ]
    },
    {
      "cell_type": "code",
      "source": [
        "# Lets check the datatype of the tuple\n",
        "type(food)"
      ],
      "metadata": {
        "id": "P8dnkYrB29Uh",
        "colab": {
          "base_uri": "https://localhost:8080/"
        },
        "outputId": "d5e5bc03-fd00-48e3-a238-282667bc6117"
      },
      "execution_count": null,
      "outputs": [
        {
          "output_type": "execute_result",
          "data": {
            "text/plain": [
              "tuple"
            ]
          },
          "metadata": {},
          "execution_count": 98
        }
      ]
    },
    {
      "cell_type": "code",
      "source": [
        "# A tuple is heterogenous and can contain different data types\n",
        "xyz = (\"anelisa is \",[12,19,29])\n",
        "print(xyz)"
      ],
      "metadata": {
        "id": "UQfniNe7-tDL",
        "colab": {
          "base_uri": "https://localhost:8080/"
        },
        "outputId": "0423fce3-0f36-40a1-c1bc-ad07a215d980"
      },
      "execution_count": null,
      "outputs": [
        {
          "output_type": "stream",
          "name": "stdout",
          "text": [
            "('anelisa is ', [12, 19, 29])\n"
          ]
        }
      ]
    },
    {
      "cell_type": "markdown",
      "source": [
        "#### Set\n",
        "A set is a collection which is unordered, unchangeable, and unindexed.. Sets are used to store multiple items in a single variable.  Sets cannot have two items with the same value"
      ],
      "metadata": {
        "id": "pHwMbTfbTYLm"
      }
    },
    {
      "cell_type": "code",
      "source": [
        "this_set = {\"sprite\",'coke','krest','fanta'}\n",
        "print(this_set)"
      ],
      "metadata": {
        "id": "UgzKnjOyTkQa",
        "colab": {
          "base_uri": "https://localhost:8080/"
        },
        "outputId": "be1d6263-44ef-4fd6-f3bc-d314a1dcae4b"
      },
      "execution_count": null,
      "outputs": [
        {
          "output_type": "stream",
          "name": "stdout",
          "text": [
            "{'fanta', 'coke', 'krest', 'sprite'}\n"
          ]
        }
      ]
    },
    {
      "cell_type": "code",
      "source": [
        "# A set with strings, integers and boolean values\n",
        "set1 = {\"abc\", 34, False, 40, \"horse\"}\n",
        "print(set1)"
      ],
      "metadata": {
        "id": "u83Wf8kQT3VB",
        "colab": {
          "base_uri": "https://localhost:8080/"
        },
        "outputId": "78135508-f895-4286-b943-8d23f000fe00"
      },
      "execution_count": null,
      "outputs": [
        {
          "output_type": "stream",
          "name": "stdout",
          "text": [
            "{False, 34, 40, 'abc', 'horse'}\n"
          ]
        }
      ]
    },
    {
      "cell_type": "markdown",
      "source": [
        "#### Dictionary\n",
        "It is a collection of pairs which is unordered, changeable, and indexed. Written with curly brackets and have keys and values"
      ],
      "metadata": {
        "id": "dsTHMUlw_Lu5"
      }
    },
    {
      "cell_type": "code",
      "source": [
        "# Example 1\n",
        "gari = {\n",
        "    'brand':'Toyota',\n",
        "    'colour': 'white',\n",
        "    'year' : \"1998\"\n",
        "}\n",
        "\n",
        "gari"
      ],
      "metadata": {
        "id": "pLa79PF8_bSo",
        "colab": {
          "base_uri": "https://localhost:8080/"
        },
        "outputId": "bc3183a0-9cb0-4714-bd66-f7ac2512dad3"
      },
      "execution_count": null,
      "outputs": [
        {
          "output_type": "execute_result",
          "data": {
            "text/plain": [
              "{'brand': 'Toyota', 'colour': 'white', 'year': '1998'}"
            ]
          },
          "metadata": {},
          "execution_count": 102
        }
      ]
    },
    {
      "cell_type": "code",
      "source": [
        "# Example 2\n",
        "bio = {\n",
        "    'Name':'Mwanga',\n",
        "    'gender': 'female',\n",
        "    'age' : 25,\n",
        "    'height' : '120 cm',\n",
        "    'weight' : 52\n",
        "}\n",
        "\n",
        "bio"
      ],
      "metadata": {
        "id": "YYExLLsVe5-A",
        "colab": {
          "base_uri": "https://localhost:8080/"
        },
        "outputId": "b09d810a-ef63-4a9e-85d2-813c46fb6196"
      },
      "execution_count": null,
      "outputs": [
        {
          "output_type": "execute_result",
          "data": {
            "text/plain": [
              "{'Name': 'Mwanga',\n",
              " 'gender': 'female',\n",
              " 'age': 25,\n",
              " 'height': '120 cm',\n",
              " 'weight': 52}"
            ]
          },
          "metadata": {},
          "execution_count": 103
        }
      ]
    },
    {
      "cell_type": "code",
      "source": [
        "# example 3\n",
        "phone = {\n",
        "    'brand':'Infinix',\n",
        "    'RAM': '4gb'\n",
        "}\n",
        "\n",
        "phone"
      ],
      "metadata": {
        "id": "ipxmLY7kCWq4",
        "colab": {
          "base_uri": "https://localhost:8080/"
        },
        "outputId": "2c25d7c9-00a2-49ce-b9b1-5baa8e8dbcb5"
      },
      "execution_count": null,
      "outputs": [
        {
          "output_type": "execute_result",
          "data": {
            "text/plain": [
              "{'brand': 'Infinix', 'RAM': '4gb'}"
            ]
          },
          "metadata": {},
          "execution_count": 107
        }
      ]
    },
    {
      "cell_type": "code",
      "source": [
        "# Create a dictionary of the names of your father, mother, brother and sister"
      ],
      "metadata": {
        "id": "aC-xCFhp_cds"
      },
      "execution_count": null,
      "outputs": []
    },
    {
      "cell_type": "code",
      "source": [
        "# Create a dictionary of your school names; (primary, secondary and tertiary)"
      ],
      "metadata": {
        "id": "r-1m1s-w_whp"
      },
      "execution_count": null,
      "outputs": []
    },
    {
      "cell_type": "code",
      "source": [
        "# You can store a dictionary within a dictionary\n",
        "\n",
        "# The dictionary contains colours of the shoes, type of dresses and\n",
        "# jacket types in a clothes box\n",
        "clothes = {\n",
        "    'shoes':{\n",
        "        'vans':'blue',\n",
        "        'nike': 'red',\n",
        "        'adidas originals': 'black'\n",
        "        },\n",
        "    'dress':{\n",
        "            'uniform':'stripes',\n",
        "            'church':'flowery',\n",
        "            'business': 'polka'\n",
        "        },\n",
        "    'jacket':{\n",
        "        'khaki':'long',\n",
        "        'jean':'torn',\n",
        "        'cotton':'sleeveless'\n",
        "    }\n",
        "\n",
        "\n",
        "\n",
        "}\n",
        "\n",
        "clothes"
      ],
      "metadata": {
        "id": "gt1GY_it_-aw",
        "colab": {
          "base_uri": "https://localhost:8080/"
        },
        "outputId": "10774be1-e5ab-4516-8e7f-bfffac858a0a"
      },
      "execution_count": null,
      "outputs": [
        {
          "output_type": "execute_result",
          "data": {
            "text/plain": [
              "{'shoes': {'vans': 'blue', 'nike': 'red', 'adidas originals': 'black'},\n",
              " 'dress': {'uniform': 'stripes', 'church': 'flowery', 'business': 'polka'},\n",
              " 'jacket': {'khaki': 'long', 'jean': 'torn', 'cotton': 'sleeveless'}}"
            ]
          },
          "metadata": {},
          "execution_count": 104
        }
      ]
    },
    {
      "cell_type": "markdown",
      "source": [
        "Adding elements to a dictionary"
      ],
      "metadata": {
        "id": "NNFrG4M1BtvP"
      }
    },
    {
      "cell_type": "code",
      "source": [
        "# Lets add engine type to our car dictionary\n",
        "\n",
        "gari['engine']= 'V6'\n",
        "gari"
      ],
      "metadata": {
        "id": "hNO3kXhzBteI",
        "colab": {
          "base_uri": "https://localhost:8080/"
        },
        "outputId": "c0bfb116-f96d-4127-8fd8-d533c22ea9dc"
      },
      "execution_count": null,
      "outputs": [
        {
          "output_type": "execute_result",
          "data": {
            "text/plain": [
              "{'brand': 'Toyota', 'colour': 'white', 'year': '1998', 'engine': 'V6'}"
            ]
          },
          "metadata": {},
          "execution_count": 105
        }
      ]
    },
    {
      "cell_type": "code",
      "source": [
        "# Lets add the phone colour to our phone dictionary\n",
        "phone['colour'] = 'Red'\n",
        "print(phone)"
      ],
      "metadata": {
        "id": "LgWNaJd3CiBu",
        "colab": {
          "base_uri": "https://localhost:8080/"
        },
        "outputId": "e0294c1b-a10a-4f52-eac7-eb06f3bbfea7"
      },
      "execution_count": null,
      "outputs": [
        {
          "output_type": "stream",
          "name": "stdout",
          "text": [
            "{'brand': 'Infinix', 'RAM': '4gb', 'colour': 'Red'}\n"
          ]
        }
      ]
    },
    {
      "cell_type": "code",
      "source": [
        "# Lets add our nephews name in the family dictionary"
      ],
      "metadata": {
        "id": "8mkvSa5jCIFj"
      },
      "execution_count": null,
      "outputs": []
    },
    {
      "cell_type": "markdown",
      "source": [
        "Access items from a dictionary"
      ],
      "metadata": {
        "id": "4VzwX2fZCHix"
      }
    },
    {
      "cell_type": "code",
      "source": [
        "# Access items from phone dictionary\n",
        "phone_colour = phone['colour']\n",
        "\n",
        "print(phone_colour)"
      ],
      "metadata": {
        "id": "fCccrb8iD57q",
        "colab": {
          "base_uri": "https://localhost:8080/"
        },
        "outputId": "477dd05c-a61b-4822-a8f1-d2220fdd5ffe"
      },
      "execution_count": null,
      "outputs": [
        {
          "output_type": "stream",
          "name": "stdout",
          "text": [
            "Red\n"
          ]
        }
      ]
    },
    {
      "cell_type": "code",
      "source": [
        "# Get the engine type of a our car dictionary\n",
        "\n",
        "gari_e = gari.get('engine')\n",
        "gari_e"
      ],
      "metadata": {
        "id": "Y4z1mU9_Epy_",
        "colab": {
          "base_uri": "https://localhost:8080/",
          "height": 35
        },
        "outputId": "ed43a2e9-0d4e-4af9-e3c6-81d984f509c7"
      },
      "execution_count": null,
      "outputs": [
        {
          "output_type": "execute_result",
          "data": {
            "text/plain": [
              "'V6'"
            ],
            "application/vnd.google.colaboratory.intrinsic+json": {
              "type": "string"
            }
          },
          "metadata": {},
          "execution_count": 110
        }
      ]
    },
    {
      "cell_type": "code",
      "source": [
        "# Try to retrieve the shoes dictionary in the clothes dictionary\n",
        "shoe = clothes.get('shoes')\n",
        "print(shoe)"
      ],
      "metadata": {
        "id": "o6hs40TNE7R6",
        "colab": {
          "base_uri": "https://localhost:8080/"
        },
        "outputId": "9f6fa8bc-4cca-41bf-da57-06c8a49e0497"
      },
      "execution_count": null,
      "outputs": [
        {
          "output_type": "stream",
          "name": "stdout",
          "text": [
            "{'vans': 'blue', 'nike': 'red', 'adidas originals': 'black'}\n"
          ]
        }
      ]
    },
    {
      "cell_type": "code",
      "source": [
        "x = 13\n",
        "print(type(x))"
      ],
      "metadata": {
        "colab": {
          "base_uri": "https://localhost:8080/"
        },
        "id": "RJmluUG-tRCl",
        "outputId": "90e7ec93-32c9-4ec3-f7ce-9447288845a3"
      },
      "execution_count": null,
      "outputs": [
        {
          "output_type": "stream",
          "name": "stdout",
          "text": [
            "<class 'int'>\n"
          ]
        }
      ]
    },
    {
      "cell_type": "code",
      "source": [],
      "metadata": {
        "id": "8NZYQ_hatQlz"
      },
      "execution_count": null,
      "outputs": []
    },
    {
      "cell_type": "code",
      "source": [],
      "metadata": {
        "id": "QLL34YjitQRQ"
      },
      "execution_count": null,
      "outputs": []
    },
    {
      "cell_type": "markdown",
      "source": [
        "Remove elements from a dictionary\n",
        "We can remove specific items from dictionary using **pop()** and clear contents of the dictionary using **clear()**"
      ],
      "metadata": {
        "id": "TQnSHonhFzUR"
      }
    },
    {
      "cell_type": "code",
      "source": [
        "# Remove age from bio dictionary\n",
        "bio_2 = bio.pop('age')\n",
        "print(bio)\n",
        "print(bio_2)"
      ],
      "metadata": {
        "id": "od-4dBr-F2zx",
        "colab": {
          "base_uri": "https://localhost:8080/"
        },
        "outputId": "0476f4c7-9109-4c70-8791-d314161d2948"
      },
      "execution_count": null,
      "outputs": [
        {
          "output_type": "stream",
          "name": "stdout",
          "text": [
            "{'Name': 'Mwanga', 'gender': 'female', 'height': '120 cm', 'weight': 52}\n",
            "25\n"
          ]
        }
      ]
    },
    {
      "cell_type": "code",
      "source": [
        "# lets clear contents in shoe dictionary\n",
        "shoe.clear()\n",
        "shoe"
      ],
      "metadata": {
        "id": "rf17CD21HbjC",
        "colab": {
          "base_uri": "https://localhost:8080/"
        },
        "outputId": "1b41b1c0-2220-43c8-c241-c4c10f40cab6"
      },
      "execution_count": null,
      "outputs": [
        {
          "output_type": "execute_result",
          "data": {
            "text/plain": [
              "{}"
            ]
          },
          "metadata": {},
          "execution_count": 113
        }
      ]
    }
  ]
}